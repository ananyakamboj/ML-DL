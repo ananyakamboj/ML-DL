{
 "cells": [
  {
   "cell_type": "code",
   "execution_count": 13,
   "metadata": {},
   "outputs": [],
   "source": [
    "import numpy as np"
   ]
  },
  {
   "cell_type": "code",
   "execution_count": 14,
   "metadata": {},
   "outputs": [],
   "source": [
    "def relu(input):\n",
    "    return max(0, input)"
   ]
  },
  {
   "cell_type": "code",
   "execution_count": 15,
   "metadata": {},
   "outputs": [],
   "source": [
    "# Multi- Layer Neural Network\n",
    "\n",
    "import collections\n",
    "\n",
    "\n",
    "def forwardPropagation(input, weights):\n",
    "    number_of_layers = len(weights['hidden'])\n",
    "    activations = {}\n",
    "    \n",
    "    for layer in range(number_of_layers):\n",
    "        hidden_layer_size = len(weights['hidden'][layer])\n",
    "        hidden_layer_values = np.zeros(hidden_layer_size)\n",
    "        activations[layer] = {}\n",
    "        for i in range(hidden_layer_size):\n",
    "            hidden_layer_values[i] = np.dot(input, weights['hidden'][layer][i])\n",
    "            hidden_layer_values[i] = relu(hidden_layer_values[i])\n",
    "            activations[layer][i] = hidden_layer_values[i]\n",
    "        \n",
    "        input = hidden_layer_values\n",
    "    # print(activations)\n",
    "    output_values = np.dot(input,weights['output'])\n",
    "    return output_values, activations\n"
   ]
  },
  {
   "cell_type": "code",
   "execution_count": 16,
   "metadata": {},
   "outputs": [
    {
     "name": "stdout",
     "output_type": "stream",
     "text": [
      "182.0\n",
      "{0: {0: 26.0, 1: 0.0}, 1: {0: 0.0, 1: 26.0}}\n"
     ]
    }
   ],
   "source": [
    "input_data = np.array([3,5])\n",
    "weights = {\n",
    "    'hidden': {0: [np.array([2, 4]), np.array([ 4, -5])], \n",
    "                1: [np.array([-1,  2]), np.array([1, 2])]},\n",
    "    'output': np.array([2, 7])}\n",
    "\n",
    "output, activations = forwardPropagation(input_data, weights)\n",
    "print(output)\n",
    "print(activations)"
   ]
  },
  {
   "cell_type": "code",
   "execution_count": 52,
   "metadata": {},
   "outputs": [],
   "source": [
    "def relu_derivative(x):\n",
    "    # Derivative of ReLU function\n",
    "    return np.where(x > 0, 1, 0)"
   ]
  },
  {
   "cell_type": "code",
   "execution_count": 101,
   "metadata": {},
   "outputs": [],
   "source": [
    "def backPropagation(input, weights,target_value, learning_rate = 1):\n",
    "    number_of_layers = len(weights['hidden'])\n",
    "    \n",
    "    predicted_value, activations = forwardPropagation(input, weights)\n",
    "    \n",
    "    print(\"Forward Propagation value: \", predicted_value)\n",
    "    print(\"Activations\", activations)\n",
    "    \n",
    "    delta_output_layer = np.subtract(predicted_value,target_value)\n",
    "    deltas = {'output':delta_output_layer}\n",
    "    \n",
    "    # print(\"Delta output\", deltas)\n",
    "    #reverse track from last layer to the first\n",
    "    deltas['hidden'] = {}\n",
    "    for layer in range(number_of_layers - 1, -1, -1):\n",
    "        # print(\"\\n l: \", layer)\n",
    "        # getting the layer weights and layer_activations\n",
    "        hidden_layer_size = len(weights['hidden'][layer])\n",
    "        layer_weights = weights['hidden'][layer]\n",
    "        layer_activations = activations[layer]\n",
    "    \n",
    "        deltas['hidden'][layer] = {}\n",
    "        # print(\"Deltas hidden\", deltas )\n",
    "        #computing deltas for hidden layers\n",
    "        \n",
    "        if layer == number_of_layers - 1:\n",
    "            #layer before the output layer\n",
    "            next_layer_weights = weights['output']\n",
    "            next_layer_deltas = deltas['output']\n",
    "            weighted_sum_next_layer = np.dot(next_layer_deltas, next_layer_weights)\n",
    "        else:\n",
    "            # other hidden layers\n",
    "            next_layer_weights = weights['hidden'][layer + 1]\n",
    "            # print(\"next weights\", next_layer_weights)\n",
    "            next_layer_deltas = deltas['hidden'][layer + 1]\n",
    "            # print(\"next_deltas\", next_layer_deltas)\n",
    "            next_layer_deltas_array = np.array(list(next_layer_deltas.values()))\n",
    "            # print(\"next_layer_deltas_array\", next_layer_deltas_array)\n",
    "            weighted_sum_next_layer = np.dot(next_layer_deltas_array, next_layer_weights)\n",
    "            # print(\"weighted_sum_next_layer\", weighted_sum_next_layer)\n",
    "        \n",
    "        for i in range(hidden_layer_size):\n",
    "            # print(\"layer activations\", layer_activations[i])\n",
    "            # print(\"weighted_sum_next_layer\", weighted_sum_next_layer[i])\n",
    "            deltas['hidden'][layer][i] = np.dot(weighted_sum_next_layer[i],layer_activations[i])\n",
    "    \n",
    "    return deltas"
   ]
  },
  {
   "cell_type": "code",
   "execution_count": 122,
   "metadata": {},
   "outputs": [],
   "source": [
    "input_data = np.array([2,3])\n",
    "weights = {\n",
    "    'hidden': {0: [np.array([0.5, 0.4]), np.array([0.3, -0.2])], \n",
    "                1: [np.array([0.6, -0.3]), np.array([0.4, 0.8])]},\n",
    "    'output': np.array([1, -1])}\n",
    "target_value = 1"
   ]
  },
  {
   "cell_type": "code",
   "execution_count": 133,
   "metadata": {},
   "outputs": [],
   "source": [
    "def update_weights(weights, activations, deltas, input, learning_rate):\n",
    "    # Update hidden layers' weights\n",
    "    for layer in range(len(weights['hidden'])):\n",
    "        layer_activations = np.array(list(activations[layer].values()))\n",
    "        print(\"layer\", layer, \"layer_activations\", layer_activations)\n",
    "        \n",
    "        if layer == (len(weights['hidden']) - 1):\n",
    "            next_layer_weights = weights['output']\n",
    "        else:\n",
    "            next_layer_weights = weights['hidden'][layer + 1]\n",
    "            print(\"next_layer_weights\", next_layer_weights)\n",
    "    # Update output layer's weights\n",
    "    \n",
    "    \n",
    "    "
   ]
  },
  {
   "cell_type": "code",
   "execution_count": 134,
   "metadata": {},
   "outputs": [
    {
     "name": "stdout",
     "output_type": "stream",
     "text": [
      "Forward Propagation value:  0.43999999999999995\n",
      "Activations {0: {0: 2.2, 1: 0.0}, 1: {0: 1.32, 1: 0.8800000000000001}}\n",
      "layer 0 layer_activations [2.2 0. ]\n",
      "next_layer_weights [array([ 0.6, -0.3]), array([0.4, 0.8])]\n",
      "layer 1 layer_activations [1.32 0.88]\n",
      "w {'hidden': {0: [array([0.5, 0.4]), array([ 0.3, -0.2])], 1: [array([ 0.6, -0.3]), array([0.4, 0.8])]}, 'output': array([ 1, -1])}\n"
     ]
    }
   ],
   "source": [
    "def totalBP(input_data, weights):\n",
    "    deltas = backPropagation(input_data, weights,target_value, learning_rate = 1)\n",
    "    update_weights(weights, activations, deltas, input_data, 1)\n",
    "    return weights\n",
    "\n",
    "\n",
    "w = totalBP(input_data, weights)\n",
    "\n",
    "print(\"w\", w)\n",
    "    "
   ]
  }
 ],
 "metadata": {
  "kernelspec": {
   "display_name": "base",
   "language": "python",
   "name": "python3"
  },
  "language_info": {
   "codemirror_mode": {
    "name": "ipython",
    "version": 3
   },
   "file_extension": ".py",
   "mimetype": "text/x-python",
   "name": "python",
   "nbconvert_exporter": "python",
   "pygments_lexer": "ipython3",
   "version": "3.10.9"
  }
 },
 "nbformat": 4,
 "nbformat_minor": 2
}
